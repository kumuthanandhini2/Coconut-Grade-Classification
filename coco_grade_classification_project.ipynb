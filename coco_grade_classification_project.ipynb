{
  "nbformat": 4,
  "nbformat_minor": 0,
  "metadata": {
    "colab": {
      "provenance": []
    },
    "kernelspec": {
      "name": "python3",
      "display_name": "Python 3"
    },
    "language_info": {
      "name": "python"
    },
    "accelerator": "GPU",
    "gpuClass": "standard"
  },
  "cells": [
    {
      "cell_type": "code",
      "execution_count": null,
      "metadata": {
        "id": "kZ3j5to8urUN"
      },
      "outputs": [],
      "source": [
        "import tensorflow as tf\n",
        "\n",
        "from tensorflow.keras import datasets, layers, models\n",
        "import matplotlib.pyplot as plt\n",
        "\n",
        "import os\n",
        "import zipfile\n",
        "import keras \n",
        "import datetime\n",
        "import shutil\n",
        "\n",
        "from tensorflow.keras.preprocessing.image import ImageDataGenerator\n",
        "\n",
        "from tensorflow.keras.models import Sequential\n",
        "from tensorflow.keras.layers import Conv2D, MaxPool2D, Flatten, Dense, Dropout"
      ]
    },
    {
      "cell_type": "code",
      "source": [
        "from google.colab import drive\n",
        "drive.mount('/content/drive')"
      ],
      "metadata": {
        "id": "IcXf5lxL0q2z",
        "colab": {
          "base_uri": "https://localhost:8080/"
        },
        "outputId": "ce48dbb8-efc1-43a7-96fa-8715cb8dc9ad"
      },
      "execution_count": null,
      "outputs": [
        {
          "output_type": "stream",
          "name": "stdout",
          "text": [
            "Mounted at /content/drive\n"
          ]
        }
      ]
    },
    {
      "cell_type": "code",
      "source": [
        "train_data_gen = ImageDataGenerator(rescale=1/255)\n",
        "validation_data_gen = ImageDataGenerator(rescale=1/255)\n",
        "\n",
        "train_gen = train_data_gen.flow_from_directory(\n",
        "    '/content/drive/MyDrive/coconut dataset/train',\n",
        "    target_size = (256,256),\n",
        "    batch_size = 32,\n",
        "    class_mode = 'categorical'\n",
        ")\n",
        "\n",
        "val_gen = train_data_gen.flow_from_directory(\n",
        "    '/content/drive/MyDrive/coconut dataset/valid',\n",
        "    target_size = (256,256),\n",
        "    batch_size = 16,\n",
        "    class_mode = 'categorical'\n",
        ")"
      ],
      "metadata": {
        "colab": {
          "base_uri": "https://localhost:8080/"
        },
        "id": "bhmHw3dyAmzS",
        "outputId": "5d6be8d2-7b76-4fd5-fdce-96d4281b508e"
      },
      "execution_count": null,
      "outputs": [
        {
          "output_type": "stream",
          "name": "stdout",
          "text": [
            "Found 2301 images belonging to 3 classes.\n",
            "Found 531 images belonging to 3 classes.\n"
          ]
        }
      ]
    },
    {
      "cell_type": "code",
      "source": [
        "# model = keras.models.Sequential([\n",
        "#     keras.layers.Conv2D(filters=96, kernel_size=(11,11), strides=(4,4), activation='relu', input_shape=(256,256,3)),\n",
        "#     keras.layers.MaxPool2D(pool_size=(3,3), strides=(2,2)),\n",
        "#     keras.layers.Conv2D(filters=64, kernel_size=(5,5), strides=(1,1), activation='relu', padding=\"same\"),\n",
        "#     keras.layers.MaxPool2D(pool_size=(3,3), strides=(2,2)),\n",
        "#     keras.layers.Conv2D(filters=256, kernel_size=(3,3), strides=(1,1), activation='relu', padding=\"same\"),\n",
        "#     keras.layers.MaxPool2D(pool_size=(3,3), strides=(2,2)),\n",
        "#     keras.layers.Conv2D(filters=64, kernel_size=(3,3), strides=(1,1), activation='relu', padding=\"same\"),\n",
        "#     keras.layers.Conv2D(filters=256, kernel_size=(3,3), strides=(1,1), activation='relu', padding=\"same\"),\n",
        "#     keras.layers.MaxPool2D(pool_size=(3,3), strides=(2,2)),\n",
        "#     keras.layers.Flatten(),\n",
        "#     keras.layers.Dense(600, activation='relu'),\n",
        "#     keras.layers.Dense(300, activation='relu'),\n",
        "#     keras.layers.Dense(3, activation='softmax')\n",
        "# ])"
      ],
      "metadata": {
        "id": "7l9U1DIWBF1D"
      },
      "execution_count": null,
      "outputs": []
    },
    {
      "cell_type": "code",
      "source": [
        "model = Sequential()\n",
        "model.add(layers.Conv2D(input_shape=(256, 256, 3), filters=64,kernel_size=(3,3), padding=\"same\",activation='relu'))\n",
        "model.add(layers.Conv2D(32, (3, 3),\n",
        "                      activation='relu',\n",
        "                      padding='same',\n",
        "                      name='conv1'))\n",
        "model.add(layers.MaxPooling2D((2, 2), strides=(2, 2), name='block1_pool'))\n",
        "model.add(layers.Conv2D(64, (3, 3),\n",
        "                      activation='relu',\n",
        "                      padding='same',\n",
        "                      name='conv2'))\n",
        "model.add(layers.MaxPooling2D((2, 2), strides=(2, 2)))\n",
        "\n",
        "model.add(layers.Conv2D(82, (3, 3),\n",
        "                      activation='relu',\n",
        "                      padding='same',\n",
        "                      name='conv3'))\n",
        "model.add(layers.MaxPooling2D((2, 2), strides=(2, 2)))\n",
        "\n",
        "model.add(layers.Conv2D(128, (3, 3),\n",
        "                      activation='relu',\n",
        "                      padding='same',\n",
        "                      name='conv4'))\n",
        "model.add(layers.MaxPooling2D((2, 2), strides=(2, 2)))\n",
        "# model.add(layers.MaxPooling2D((2, 2), strides=(2, 2)))"
      ],
      "metadata": {
        "id": "L6CvcoYNGs1L"
      },
      "execution_count": null,
      "outputs": []
    },
    {
      "cell_type": "code",
      "source": [
        "model.add(layers.Flatten())\n",
        "model.add(layers.Dense(64, activation='relu'))\n",
        "model.add(layers.Dense(3,activation='softmax'))"
      ],
      "metadata": {
        "id": "NdjQJpQ5GuAS"
      },
      "execution_count": null,
      "outputs": []
    },
    {
      "cell_type": "code",
      "source": [
        "model.summary()"
      ],
      "metadata": {
        "colab": {
          "base_uri": "https://localhost:8080/"
        },
        "id": "EZc4XeqlFEV8",
        "outputId": "e58b0554-838d-453a-f03c-baf4aad86199"
      },
      "execution_count": null,
      "outputs": [
        {
          "output_type": "stream",
          "name": "stdout",
          "text": [
            "Model: \"sequential\"\n",
            "_________________________________________________________________\n",
            " Layer (type)                Output Shape              Param #   \n",
            "=================================================================\n",
            " conv2d (Conv2D)             (None, 256, 256, 64)      1792      \n",
            "                                                                 \n",
            " block1_conv1 (Conv2D)       (None, 256, 256, 32)      18464     \n",
            "                                                                 \n",
            " block1_pool (MaxPooling2D)  (None, 128, 128, 32)      0         \n",
            "                                                                 \n",
            " block1_conv2 (Conv2D)       (None, 128, 128, 64)      18496     \n",
            "                                                                 \n",
            " max_pooling2d (MaxPooling2D  (None, 64, 64, 64)       0         \n",
            " )                                                               \n",
            "                                                                 \n",
            " block2_conv1 (Conv2D)       (None, 64, 64, 82)        47314     \n",
            "                                                                 \n",
            " max_pooling2d_1 (MaxPooling  (None, 32, 32, 82)       0         \n",
            " 2D)                                                             \n",
            "                                                                 \n",
            " block5_conv4 (Conv2D)       (None, 32, 32, 128)       94592     \n",
            "                                                                 \n",
            " max_pooling2d_2 (MaxPooling  (None, 16, 16, 128)      0         \n",
            " 2D)                                                             \n",
            "                                                                 \n",
            " max_pooling2d_3 (MaxPooling  (None, 8, 8, 128)        0         \n",
            " 2D)                                                             \n",
            "                                                                 \n",
            " flatten (Flatten)           (None, 8192)              0         \n",
            "                                                                 \n",
            " dense (Dense)               (None, 64)                524352    \n",
            "                                                                 \n",
            " dense_1 (Dense)             (None, 3)                 195       \n",
            "                                                                 \n",
            "=================================================================\n",
            "Total params: 705,205\n",
            "Trainable params: 705,205\n",
            "Non-trainable params: 0\n",
            "_________________________________________________________________\n"
          ]
        }
      ]
    },
    {
      "cell_type": "code",
      "source": [
        "from tensorflow.keras.optimizers import Adam\n",
        "model.compile(loss = 'categorical_crossentropy',\n",
        "             optimizer = 'Adam',\n",
        "             metrics = ['accuracy'])"
      ],
      "metadata": {
        "id": "EWXEPAf1FUi5"
      },
      "execution_count": null,
      "outputs": []
    },
    {
      "cell_type": "code",
      "source": [
        "early_stopping=tf.keras.callbacks.EarlyStopping(monitor=\"val_accuracy\",\n",
        "                                                patience=3)"
      ],
      "metadata": {
        "id": "HDLJir5vHJuc"
      },
      "execution_count": null,
      "outputs": []
    },
    {
      "cell_type": "code",
      "source": [
        "model_fit = model.fit(train_gen,\n",
        "                    # steps_per_epoch = 72,\n",
        "                     epochs = 10,\n",
        "                    verbose = 1,\n",
        "                     validation_data = val_gen)\n"
      ],
      "metadata": {
        "colab": {
          "base_uri": "https://localhost:8080/"
        },
        "id": "Duv2gXGZHOZA",
        "outputId": "8125cc7d-b67b-4268-ab2a-aa61c1730941"
      },
      "execution_count": null,
      "outputs": [
        {
          "output_type": "stream",
          "name": "stdout",
          "text": [
            "Epoch 1/10\n",
            "72/72 [==============================] - 1377s 19s/step - loss: 0.8306 - accuracy: 0.6215 - val_loss: 0.7824 - val_accuracy: 0.6911\n",
            "Epoch 2/10\n",
            "72/72 [==============================] - 505s 7s/step - loss: 0.5706 - accuracy: 0.7571 - val_loss: 0.5874 - val_accuracy: 0.7476\n",
            "Epoch 3/10\n",
            "72/72 [==============================] - 499s 7s/step - loss: 0.4761 - accuracy: 0.8157 - val_loss: 0.5456 - val_accuracy: 0.7872\n",
            "Epoch 4/10\n",
            "72/72 [==============================] - 503s 7s/step - loss: 0.3403 - accuracy: 0.8692 - val_loss: 0.4413 - val_accuracy: 0.8418\n",
            "Epoch 5/10\n",
            "72/72 [==============================] - 508s 7s/step - loss: 0.2365 - accuracy: 0.9135 - val_loss: 0.7498 - val_accuracy: 0.7759\n",
            "Epoch 6/10\n",
            "72/72 [==============================] - 496s 7s/step - loss: 0.1789 - accuracy: 0.9305 - val_loss: 0.7673 - val_accuracy: 0.7608\n",
            "Epoch 7/10\n",
            "50/72 [===================>..........] - ETA: 2:03 - loss: 0.1365 - accuracy: 0.9524"
          ]
        }
      ]
    },
    {
      "cell_type": "code",
      "source": [
        "model_fit.save('COCONUT_GRADE_CLASS_R.h5')"
      ],
      "metadata": {
        "id": "mB-pqxwzHcrE"
      },
      "execution_count": null,
      "outputs": []
    },
    {
      "cell_type": "code",
      "source": [
        "import os\n",
        "import shutil\n",
        "source = '/content/'\n",
        "destination = '/content/drive/MyDrive/'\n",
        "\n",
        "f = 'COCONUT_GRADE_CLASS.h5'\n",
        "\n",
        "#for f in allfiles:\n",
        "src_path = os.path.join(source, f)\n",
        "dst_path = os.path.join(destination, f)\n",
        "shutil.move(src_path, dst_path)"
      ],
      "metadata": {
        "id": "8i19GINrUWDb"
      },
      "execution_count": null,
      "outputs": []
    },
    {
      "cell_type": "code",
      "source": [],
      "metadata": {
        "id": "HBmLcoR3WTAH"
      },
      "execution_count": null,
      "outputs": []
    }
  ]
}